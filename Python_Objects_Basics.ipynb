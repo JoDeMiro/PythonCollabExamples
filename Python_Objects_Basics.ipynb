{
  "nbformat": 4,
  "nbformat_minor": 0,
  "metadata": {
    "colab": {
      "name": "Python - Objects Basics.ipynb",
      "provenance": [],
      "collapsed_sections": [],
      "authorship_tag": "ABX9TyNc80tLHiUD7Qxidl6ax91I",
      "include_colab_link": true
    },
    "kernelspec": {
      "name": "python3",
      "display_name": "Python 3"
    },
    "language_info": {
      "name": "python"
    }
  },
  "cells": [
    {
      "cell_type": "markdown",
      "metadata": {
        "id": "view-in-github",
        "colab_type": "text"
      },
      "source": [
        "<a href=\"https://colab.research.google.com/github/JoDeMiro/PythonCollabExamples/blob/main/Python_Objects_Basics.ipynb\" target=\"_parent\"><img src=\"https://colab.research.google.com/assets/colab-badge.svg\" alt=\"Open In Colab\"/></a>"
      ]
    },
    {
      "cell_type": "code",
      "metadata": {
        "id": "3ZPYb-icIt8U"
      },
      "source": [
        "# https://www.youtube.com/watch?v=apACNr7DC_s"
      ],
      "execution_count": null,
      "outputs": []
    },
    {
      "cell_type": "code",
      "metadata": {
        "id": "toTzSqJHI83C"
      },
      "source": [
        "class User:\n",
        "  pass"
      ],
      "execution_count": null,
      "outputs": []
    },
    {
      "cell_type": "code",
      "metadata": {
        "id": "5txLL5bgI_oM"
      },
      "source": [
        "user1 = User()"
      ],
      "execution_count": null,
      "outputs": []
    },
    {
      "cell_type": "code",
      "metadata": {
        "id": "OBJjVce1JDdV"
      },
      "source": [
        "user1.first_name = \"Paul\"\n",
        "user1.last_name = \"Brown\""
      ],
      "execution_count": null,
      "outputs": []
    },
    {
      "cell_type": "code",
      "metadata": {
        "colab": {
          "base_uri": "https://localhost:8080/"
        },
        "id": "qCTkk8h0JPqr",
        "outputId": "8b35080f-eae2-4c18-d8fc-d5753dd57906"
      },
      "source": [
        "print(user1.first_name)"
      ],
      "execution_count": null,
      "outputs": [
        {
          "output_type": "stream",
          "text": [
            "Paul\n"
          ],
          "name": "stdout"
        }
      ]
    },
    {
      "cell_type": "code",
      "metadata": {
        "colab": {
          "base_uri": "https://localhost:8080/"
        },
        "id": "4_QEFX9jJStX",
        "outputId": "e4398a43-396d-4487-95a3-4656ba61cb82"
      },
      "source": [
        "user2 = User()\n",
        "\n",
        "user2.first_name = \"Frank\"\n",
        "user2.last_name = \"Poole\"\n",
        "\n",
        "print(user2.first_name, user2.last_name)"
      ],
      "execution_count": null,
      "outputs": [
        {
          "output_type": "stream",
          "text": [
            "Frank Poole\n"
          ],
          "name": "stdout"
        }
      ]
    },
    {
      "cell_type": "code",
      "metadata": {
        "id": "qPr_KTv8KBch"
      },
      "source": [
        "class Dog:\n",
        "  \"\"\"A member of FriendFace. For now we are\n",
        "  only storing their name and birthday.\n",
        "  But soon we will store an uncomfortable\n",
        "  amount of dog information.\"\"\"\n",
        "\n",
        "  def __init__(self, name, birthday):\n",
        "    self.name = name\n",
        "    self.birthday = birthday\n",
        "  \n",
        "  def say_hello(self):\n",
        "    \"\"\"Say hello to the user\"\"\"\n",
        "    print(\"Hello gazdi \", self.name, \" vagyok\")\n"
      ],
      "execution_count": null,
      "outputs": []
    },
    {
      "cell_type": "code",
      "metadata": {
        "id": "mcH5r1QyKk82"
      },
      "source": [
        "mazsi = Dog(\"Mazsi\", 10)"
      ],
      "execution_count": null,
      "outputs": []
    },
    {
      "cell_type": "code",
      "metadata": {
        "colab": {
          "base_uri": "https://localhost:8080/"
        },
        "id": "CUw0bOQCLnWT",
        "outputId": "5f81faf3-aa20-4769-85a0-f4c1ea4b6396"
      },
      "source": [
        "help(Dog)"
      ],
      "execution_count": null,
      "outputs": [
        {
          "output_type": "stream",
          "text": [
            "Help on class Dog in module __main__:\n",
            "\n",
            "class Dog(builtins.object)\n",
            " |  Dog(name, birthday)\n",
            " |  \n",
            " |  A member of FriendFace. For now we are\n",
            " |  only storing their name and birthday.\n",
            " |  But soon we will store an uncomfortable\n",
            " |  amount of dog information.\n",
            " |  \n",
            " |  Methods defined here:\n",
            " |  \n",
            " |  __init__(self, name, birthday)\n",
            " |      Initialize self.  See help(type(self)) for accurate signature.\n",
            " |  \n",
            " |  say_hello(self)\n",
            " |      Say hello to the user\n",
            " |  \n",
            " |  ----------------------------------------------------------------------\n",
            " |  Data descriptors defined here:\n",
            " |  \n",
            " |  __dict__\n",
            " |      dictionary for instance variables (if defined)\n",
            " |  \n",
            " |  __weakref__\n",
            " |      list of weak references to the object (if defined)\n",
            "\n"
          ],
          "name": "stdout"
        }
      ]
    },
    {
      "cell_type": "code",
      "metadata": {
        "colab": {
          "base_uri": "https://localhost:8080/"
        },
        "id": "rhoDxjWBKosw",
        "outputId": "07c53d7a-0f2e-4bbc-b3ba-823ef29f78c1"
      },
      "source": [
        "mazsi.say_hello()"
      ],
      "execution_count": null,
      "outputs": [
        {
          "output_type": "stream",
          "text": [
            "Hello gazdi  Mazsi  vagyok\n"
          ],
          "name": "stdout"
        }
      ]
    },
    {
      "cell_type": "code",
      "metadata": {
        "id": "iKiNcvQyLH12"
      },
      "source": [
        ""
      ],
      "execution_count": null,
      "outputs": []
    }
  ]
}