{
  "nbformat": 4,
  "nbformat_minor": 0,
  "metadata": {
    "colab": {
      "name": "Python - Map, Filter, Reduce Example.ipynb",
      "provenance": [],
      "collapsed_sections": [],
      "authorship_tag": "ABX9TyPDqEWdwzVuXrPrdyTS9EI0",
      "include_colab_link": true
    },
    "kernelspec": {
      "name": "python3",
      "display_name": "Python 3"
    },
    "language_info": {
      "name": "python"
    }
  },
  "cells": [
    {
      "cell_type": "markdown",
      "metadata": {
        "id": "view-in-github",
        "colab_type": "text"
      },
      "source": [
        "<a href=\"https://colab.research.google.com/github/JoDeMiro/PythonCollabExamples/blob/main/Python_Map%2C_Filter%2C_Reduce_Example.ipynb\" target=\"_parent\"><img src=\"https://colab.research.google.com/assets/colab-badge.svg\" alt=\"Open In Colab\"/></a>"
      ]
    },
    {
      "cell_type": "code",
      "metadata": {
        "id": "GEPGrssi9FZj"
      },
      "source": [
        "# https://www.youtube.com/watch?v=hUes6y2b--0"
      ],
      "execution_count": null,
      "outputs": []
    },
    {
      "cell_type": "code",
      "metadata": {
        "id": "8D-lw2un9Lh5"
      },
      "source": [
        "import math"
      ],
      "execution_count": null,
      "outputs": []
    },
    {
      "cell_type": "code",
      "metadata": {
        "id": "L2S4-xvt9Q2z"
      },
      "source": [
        "def area(r):\n",
        "  \"\"\"Area of a circle with radius\"\"\"\n",
        "  return math.pi * (r**2)\n",
        "\n",
        "numbers = [2, 5, 7.1, 0.3, 10]"
      ],
      "execution_count": null,
      "outputs": []
    },
    {
      "cell_type": "code",
      "metadata": {
        "colab": {
          "base_uri": "https://localhost:8080/"
        },
        "id": "5SLeJ3Jm9i30",
        "outputId": "8878f296-0ad1-40f9-cd49-e42c849bc6cc"
      },
      "source": [
        "# Method 1: Direct method\n",
        "\n",
        "areas = []\n",
        "\n",
        "for r in numbers:\n",
        "  a = area(r)\n",
        "  areas.append(a)\n",
        "\n",
        "print(areas)"
      ],
      "execution_count": null,
      "outputs": [
        {
          "output_type": "stream",
          "text": [
            "[12.566370614359172, 78.53981633974483, 158.36768566746147, 0.2827433388230814, 314.1592653589793]\n"
          ],
          "name": "stdout"
        }
      ]
    },
    {
      "cell_type": "code",
      "metadata": {
        "colab": {
          "base_uri": "https://localhost:8080/"
        },
        "id": "tyo71Hnb9zJs",
        "outputId": "bcb74024-a398-494f-9af7-0f77a51303dd"
      },
      "source": [
        "# Method 2: Use 'map' function\n",
        "\n",
        "map(area, numbers)\n",
        "\n",
        "list(map(area, numbers))\n",
        "\n",
        "# a lényeg, hogy egy függvényt a map első paraméterét, alkalmazza a map második paraméterének ami egy lista minden elemére"
      ],
      "execution_count": null,
      "outputs": [
        {
          "output_type": "execute_result",
          "data": {
            "text/plain": [
              "[12.566370614359172,\n",
              " 78.53981633974483,\n",
              " 158.36768566746147,\n",
              " 0.2827433388230814,\n",
              " 314.1592653589793]"
            ]
          },
          "metadata": {
            "tags": []
          },
          "execution_count": 23
        }
      ]
    },
    {
      "cell_type": "code",
      "metadata": {
        "colab": {
          "base_uri": "https://localhost:8080/"
        },
        "id": "TgQOCByu-YwJ",
        "outputId": "d02db20b-d1bd-459e-c7cd-0d0bc9eb6d22"
      },
      "source": [
        "temperature = [(\"Berlin\", 29), (\"Budapest\", 30), (\"Cairo\", 34), (\"Buenos Aires\", 40), (\"Los Angeles\", 25)]\n",
        "\n",
        "     # Farenheit = (9/5) * Celsius + 32\n",
        "celsius_to_farenheit = lambda data: (data[0], (9/5)*data[1] + 32)\n",
        "\n",
        "# Most, hogy megvan a lambda függvényünk alkalmazhatjuk a map függvényen belül\n",
        "\n",
        "list(map(celsius_to_farenheit, temperature))"
      ],
      "execution_count": null,
      "outputs": [
        {
          "output_type": "execute_result",
          "data": {
            "text/plain": [
              "[('Berlin', 84.2),\n",
              " ('Budapest', 86.0),\n",
              " ('Cairo', 93.2),\n",
              " ('Buenos Aires', 104.0),\n",
              " ('Los Angeles', 77.0)]"
            ]
          },
          "metadata": {
            "tags": []
          },
          "execution_count": 25
        }
      ]
    },
    {
      "cell_type": "code",
      "metadata": {
        "colab": {
          "base_uri": "https://localhost:8080/"
        },
        "id": "o6c1sXSu-9W_",
        "outputId": "36c8f499-9097-4f3f-da43-f35ba3d638e9"
      },
      "source": [
        "# Filter\n",
        "\n",
        "import statistics\n",
        "\n",
        "data = [1.3, 2.7, 0.8, 4,1, 4.3, -0.1]\n",
        "\n",
        "average = statistics.mean(data)\n",
        "\n",
        "print(average)\n",
        "\n",
        "filter(lambda x: x > average, data)\n",
        "\n",
        "print(list(filter(lambda x: x > average, data)))\n",
        "\n",
        "print(list(filter(lambda x: x < average, data)))"
      ],
      "execution_count": null,
      "outputs": [
        {
          "output_type": "stream",
          "text": [
            "2.0\n",
            "[2.7, 4, 4.3]\n",
            "[1.3, 0.8, 1, -0.1]\n"
          ],
          "name": "stdout"
        }
      ]
    },
    {
      "cell_type": "code",
      "metadata": {
        "colab": {
          "base_uri": "https://localhost:8080/"
        },
        "id": "171hKxNXAdbg",
        "outputId": "e275af47-5195-4a9a-b466-2eeec6b80a4a"
      },
      "source": [
        "# Filter, Remove missing data\n",
        "\n",
        "countries = [\"\", \"Argentina\", \"\", \"Brazil\", \"Chile\", \"\", \"Columbia\", \"\", \"Ecuador\", \"\", \"\", \"Venezuela\"]\n",
        "\n",
        "list(filter(None, countries))"
      ],
      "execution_count": null,
      "outputs": [
        {
          "output_type": "execute_result",
          "data": {
            "text/plain": [
              "['Argentina', 'Brazil', 'Chile', 'Columbia', 'Ecuador', 'Venezuela']"
            ]
          },
          "metadata": {
            "tags": []
          },
          "execution_count": 36
        }
      ]
    },
    {
      "cell_type": "code",
      "metadata": {
        "colab": {
          "base_uri": "https://localhost:8080/"
        },
        "id": "G3MG6BbuBVzC",
        "outputId": "cdfac5ac-01eb-4fbb-9f1b-6faab2176e7c"
      },
      "source": [
        "# Reduce\n",
        "\n",
        "from functools import reduce\n",
        "\n",
        "data = [2, 3, 5, 7, 11, 13, 17, 19, 23, 29]\n",
        "\n",
        "result = reduce(lambda a,b: a * b, data)\n",
        "\n",
        "print(result)\n"
      ],
      "execution_count": null,
      "outputs": [
        {
          "output_type": "stream",
          "text": [
            "6469693230\n"
          ],
          "name": "stdout"
        }
      ]
    },
    {
      "cell_type": "code",
      "metadata": {
        "colab": {
          "base_uri": "https://localhost:8080/"
        },
        "id": "8VWrfFd1DJ-H",
        "outputId": "fc990bc8-af60-4877-e56f-390cb13a5c1f"
      },
      "source": [
        "# Traditional way\n",
        "\n",
        "r = 1\n",
        "for i in data:\n",
        "  r = r * i\n",
        "\n",
        "print(r)"
      ],
      "execution_count": null,
      "outputs": [
        {
          "output_type": "stream",
          "text": [
            "6469693230\n"
          ],
          "name": "stdout"
        }
      ]
    },
    {
      "cell_type": "code",
      "metadata": {
        "id": "iw10mZkZDlSn"
      },
      "source": [
        ""
      ],
      "execution_count": null,
      "outputs": []
    }
  ]
}