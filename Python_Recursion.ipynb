{
  "nbformat": 4,
  "nbformat_minor": 0,
  "metadata": {
    "colab": {
      "name": "Python - Recursion.ipynb",
      "provenance": [],
      "collapsed_sections": [],
      "authorship_tag": "ABX9TyPuYcugCCQ9wCJZNDsDLXOi",
      "include_colab_link": true
    },
    "kernelspec": {
      "name": "python3",
      "display_name": "Python 3"
    },
    "language_info": {
      "name": "python"
    }
  },
  "cells": [
    {
      "cell_type": "markdown",
      "metadata": {
        "id": "view-in-github",
        "colab_type": "text"
      },
      "source": [
        "<a href=\"https://colab.research.google.com/github/JoDeMiro/PythonCollabExamples/blob/main/Python_Recursion.ipynb\" target=\"_parent\"><img src=\"https://colab.research.google.com/assets/colab-badge.svg\" alt=\"Open In Colab\"/></a>"
      ]
    },
    {
      "cell_type": "code",
      "metadata": {
        "id": "6A-NavQlriEM"
      },
      "source": [
        "# https://www.youtube.com/watch?v=Qk0zUZW-U_M"
      ],
      "execution_count": null,
      "outputs": []
    },
    {
      "cell_type": "code",
      "metadata": {
        "id": "nitbCunormSZ"
      },
      "source": [
        "def fibonacci(n):\n",
        "  if n == 1:\n",
        "    return 1\n",
        "  elif n == 2:\n",
        "    return 1\n",
        "  elif n > 2:\n",
        "    return fibonacci(n-1) + fibonacci(n-2)"
      ],
      "execution_count": null,
      "outputs": []
    },
    {
      "cell_type": "code",
      "metadata": {
        "colab": {
          "base_uri": "https://localhost:8080/"
        },
        "id": "ZKPp4jL0r90J",
        "outputId": "3bce5996-b721-481f-9a39-7311a9029760"
      },
      "source": [
        "for i in range(1, 11):\n",
        "  print(i, \":\", fibonacci(i))"
      ],
      "execution_count": null,
      "outputs": [
        {
          "output_type": "stream",
          "text": [
            "1 : 1\n",
            "2 : 1\n",
            "3 : 2\n",
            "4 : 3\n",
            "5 : 5\n",
            "6 : 8\n",
            "7 : 13\n",
            "8 : 21\n",
            "9 : 34\n",
            "10 : 55\n"
          ],
          "name": "stdout"
        }
      ]
    },
    {
      "cell_type": "code",
      "metadata": {
        "colab": {
          "base_uri": "https://localhost:8080/"
        },
        "id": "f-xg7i2TsISD",
        "outputId": "e340d2eb-a5e8-4588-8817-0f6c12a303cb"
      },
      "source": [
        "for i in range(1, 35):\n",
        "  print(i, \":\", fibonacci(i))"
      ],
      "execution_count": null,
      "outputs": [
        {
          "output_type": "stream",
          "text": [
            "1 : 1\n",
            "2 : 1\n",
            "3 : 2\n",
            "4 : 3\n",
            "5 : 5\n",
            "6 : 8\n",
            "7 : 13\n",
            "8 : 21\n",
            "9 : 34\n",
            "10 : 55\n",
            "11 : 89\n",
            "12 : 144\n",
            "13 : 233\n",
            "14 : 377\n",
            "15 : 610\n",
            "16 : 987\n",
            "17 : 1597\n",
            "18 : 2584\n",
            "19 : 4181\n",
            "20 : 6765\n",
            "21 : 10946\n",
            "22 : 17711\n",
            "23 : 28657\n",
            "24 : 46368\n",
            "25 : 75025\n",
            "26 : 121393\n",
            "27 : 196418\n",
            "28 : 317811\n",
            "29 : 514229\n",
            "30 : 832040\n",
            "31 : 1346269\n",
            "32 : 2178309\n",
            "33 : 3524578\n",
            "34 : 5702887\n"
          ],
          "name": "stdout"
        }
      ]
    },
    {
      "cell_type": "code",
      "metadata": {
        "id": "1G8ozSuEseIj"
      },
      "source": [
        " # Fenti kóddal az a baj,  hogy lassú, mert mindíg újra számol bizonyos értékeket, mivel újra és újra meghívja magát\n",
        "\n",
        " # Ennek orvosolására álljon itt az alábbi megoldás"
      ],
      "execution_count": null,
      "outputs": []
    },
    {
      "cell_type": "code",
      "metadata": {
        "id": "AzWd0lN1s5EC"
      },
      "source": [
        "fibonacci_cache = {}\n",
        "\n",
        "def fibonacci(n):\n",
        "  # If we have cahced value, then return it\n",
        "  if n in fibonacci_cache:\n",
        "    return fibonacci_cache[n]\n",
        "  \n",
        "  # Compute the nth term\n",
        "  if n == 1:\n",
        "    value = 1\n",
        "  elif n == 2:\n",
        "    value = 1\n",
        "  elif n > 2:\n",
        "    value = fibonacci(n-1) + fibonacci(n-2)\n",
        "  \n",
        "  # Cache the value and return it\n",
        "  fibonacci_cache[n] = value\n",
        "\n",
        "  return value"
      ],
      "execution_count": null,
      "outputs": []
    },
    {
      "cell_type": "code",
      "metadata": {
        "colab": {
          "base_uri": "https://localhost:8080/"
        },
        "id": "vmSeXVe2tm-J",
        "outputId": "8c846ad1-5efe-4259-a06c-4c2f19579ced"
      },
      "source": [
        "for i in range(1, 35):\n",
        "  print(i, \":\", fibonacci(i))"
      ],
      "execution_count": null,
      "outputs": [
        {
          "output_type": "stream",
          "text": [
            "1 : 1\n",
            "2 : 1\n",
            "3 : 2\n",
            "4 : 3\n",
            "5 : 5\n",
            "6 : 8\n",
            "7 : 13\n",
            "8 : 21\n",
            "9 : 34\n",
            "10 : 55\n",
            "11 : 89\n",
            "12 : 144\n",
            "13 : 233\n",
            "14 : 377\n",
            "15 : 610\n",
            "16 : 987\n",
            "17 : 1597\n",
            "18 : 2584\n",
            "19 : 4181\n",
            "20 : 6765\n",
            "21 : 10946\n",
            "22 : 17711\n",
            "23 : 28657\n",
            "24 : 46368\n",
            "25 : 75025\n",
            "26 : 121393\n",
            "27 : 196418\n",
            "28 : 317811\n",
            "29 : 514229\n",
            "30 : 832040\n",
            "31 : 1346269\n",
            "32 : 2178309\n",
            "33 : 3524578\n",
            "34 : 5702887\n"
          ],
          "name": "stdout"
        }
      ]
    },
    {
      "cell_type": "code",
      "metadata": {
        "id": "ZPivrFnit8B5"
      },
      "source": [
        "# Ugyan ennek a megoldásnak van egy beépített változata is, amely az alábbi módon használható"
      ],
      "execution_count": null,
      "outputs": []
    },
    {
      "cell_type": "code",
      "metadata": {
        "colab": {
          "base_uri": "https://localhost:8080/"
        },
        "id": "A8lOfTZ8uP1n",
        "outputId": "a3269a8f-67c1-4bcd-f1f7-51293e235887"
      },
      "source": [
        "# import Last Recently Used Cache\n",
        "\n",
        "from functools import lru_cache\n",
        "\n",
        "@lru_cache(maxsize = 1000)\n",
        "def fibonacci(n):\n",
        "  # Check that the input is positive integer\n",
        "  if type(n) != int:\n",
        "    raise TypeError(\"n must be a positive integer\")\n",
        "  if n < 1:\n",
        "    raise ValueError(\"n must be a positive integer\")\n",
        "\n",
        "  if n == 1:\n",
        "    return 1\n",
        "  elif n == 2:\n",
        "    return 1\n",
        "  elif n > 2:\n",
        "    return fibonacci(n-1) + fibonacci(n-2)\n",
        "\n",
        "for i in range(1, 35):\n",
        "  print(i, \":\", fibonacci(i))\n"
      ],
      "execution_count": null,
      "outputs": [
        {
          "output_type": "stream",
          "text": [
            "1 : 1\n",
            "2 : 1\n",
            "3 : 2\n",
            "4 : 3\n",
            "5 : 5\n",
            "6 : 8\n",
            "7 : 13\n",
            "8 : 21\n",
            "9 : 34\n",
            "10 : 55\n",
            "11 : 89\n",
            "12 : 144\n",
            "13 : 233\n",
            "14 : 377\n",
            "15 : 610\n",
            "16 : 987\n",
            "17 : 1597\n",
            "18 : 2584\n",
            "19 : 4181\n",
            "20 : 6765\n",
            "21 : 10946\n",
            "22 : 17711\n",
            "23 : 28657\n",
            "24 : 46368\n",
            "25 : 75025\n",
            "26 : 121393\n",
            "27 : 196418\n",
            "28 : 317811\n",
            "29 : 514229\n",
            "30 : 832040\n",
            "31 : 1346269\n",
            "32 : 2178309\n",
            "33 : 3524578\n",
            "34 : 5702887\n"
          ],
          "name": "stdout"
        }
      ]
    },
    {
      "cell_type": "code",
      "metadata": {
        "id": "n_Nt33inuz2l"
      },
      "source": [
        "# Egy kis érdekesség,\n",
        "\n",
        "# Milyen ütemben emelkedik a Fibonacci számsorunk\n",
        "\n",
        "# Ha megfigyeljük két egymást követő szám közötti arányt, akkor a következő érdekességet látjuk"
      ],
      "execution_count": null,
      "outputs": []
    },
    {
      "cell_type": "code",
      "metadata": {
        "colab": {
          "base_uri": "https://localhost:8080/"
        },
        "id": "63VlX4HavK0M",
        "outputId": "ac70e2d9-c6b2-4be9-9259-26c04e2175bd"
      },
      "source": [
        "for i in range(1, 51):\n",
        "  print(\"ratio \", i, \":\", fibonacci(i+1)/fibonacci(i))"
      ],
      "execution_count": null,
      "outputs": [
        {
          "output_type": "stream",
          "text": [
            "ratio  1 : 1.0\n",
            "ratio  2 : 2.0\n",
            "ratio  3 : 1.5\n",
            "ratio  4 : 1.6666666666666667\n",
            "ratio  5 : 1.6\n",
            "ratio  6 : 1.625\n",
            "ratio  7 : 1.6153846153846154\n",
            "ratio  8 : 1.619047619047619\n",
            "ratio  9 : 1.6176470588235294\n",
            "ratio  10 : 1.6181818181818182\n",
            "ratio  11 : 1.6179775280898876\n",
            "ratio  12 : 1.6180555555555556\n",
            "ratio  13 : 1.6180257510729614\n",
            "ratio  14 : 1.6180371352785146\n",
            "ratio  15 : 1.618032786885246\n",
            "ratio  16 : 1.618034447821682\n",
            "ratio  17 : 1.6180338134001253\n",
            "ratio  18 : 1.618034055727554\n",
            "ratio  19 : 1.6180339631667064\n",
            "ratio  20 : 1.6180339985218033\n",
            "ratio  21 : 1.618033985017358\n",
            "ratio  22 : 1.6180339901755971\n",
            "ratio  23 : 1.618033988205325\n",
            "ratio  24 : 1.618033988957902\n",
            "ratio  25 : 1.6180339886704431\n",
            "ratio  26 : 1.6180339887802426\n",
            "ratio  27 : 1.618033988738303\n",
            "ratio  28 : 1.6180339887543225\n",
            "ratio  29 : 1.6180339887482036\n",
            "ratio  30 : 1.6180339887505408\n",
            "ratio  31 : 1.6180339887496482\n",
            "ratio  32 : 1.618033988749989\n",
            "ratio  33 : 1.618033988749859\n",
            "ratio  34 : 1.6180339887499087\n",
            "ratio  35 : 1.6180339887498896\n",
            "ratio  36 : 1.618033988749897\n",
            "ratio  37 : 1.618033988749894\n",
            "ratio  38 : 1.6180339887498951\n",
            "ratio  39 : 1.6180339887498947\n",
            "ratio  40 : 1.618033988749895\n",
            "ratio  41 : 1.618033988749895\n",
            "ratio  42 : 1.618033988749895\n",
            "ratio  43 : 1.618033988749895\n",
            "ratio  44 : 1.618033988749895\n",
            "ratio  45 : 1.618033988749895\n",
            "ratio  46 : 1.618033988749895\n",
            "ratio  47 : 1.618033988749895\n",
            "ratio  48 : 1.618033988749895\n",
            "ratio  49 : 1.618033988749895\n",
            "ratio  50 : 1.618033988749895\n"
          ],
          "name": "stdout"
        }
      ]
    },
    {
      "cell_type": "code",
      "metadata": {
        "id": "6wbXbRoFv8hi"
      },
      "source": [
        ""
      ],
      "execution_count": null,
      "outputs": []
    }
  ]
}