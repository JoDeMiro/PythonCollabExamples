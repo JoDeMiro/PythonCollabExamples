{
  "nbformat": 4,
  "nbformat_minor": 0,
  "metadata": {
    "colab": {
      "name": "EulerNumber.ipynb",
      "provenance": [],
      "collapsed_sections": [],
      "authorship_tag": "ABX9TyNFZaD/bWDjNFi0HWvfIMpy",
      "include_colab_link": true
    },
    "kernelspec": {
      "name": "python3",
      "display_name": "Python 3"
    }
  },
  "cells": [
    {
      "cell_type": "markdown",
      "metadata": {
        "id": "view-in-github",
        "colab_type": "text"
      },
      "source": [
        "<a href=\"https://colab.research.google.com/github/JoDeMiro/PythonCollabExamples/blob/main/EulerNumber.ipynb\" target=\"_parent\"><img src=\"https://colab.research.google.com/assets/colab-badge.svg\" alt=\"Open In Colab\"/></a>"
      ]
    },
    {
      "cell_type": "code",
      "metadata": {
        "colab": {
          "base_uri": "https://localhost:8080/"
        },
        "id": "yNRXZG84hvVI",
        "outputId": "b86fe084-8b0b-41d4-fbd4-5a9751557bcc"
      },
      "source": [
        "def factorial(n):\n",
        "  sum = 1;\n",
        "  for i in range(1, n + 1):\n",
        "    sum = sum * i\n",
        "  return sum\n",
        "\n",
        "def euler(n):\n",
        "  print(n)\n",
        "  e = 0;\n",
        "  for i in range(0, n):\n",
        "    e = e + (1/factorial(i))\n",
        "    print(e)\n",
        "  return e\n",
        "\n",
        "print(factorial(3))\n",
        "print(euler(12))"
      ],
      "execution_count": null,
      "outputs": [
        {
          "output_type": "stream",
          "text": [
            "6\n",
            "12\n",
            "1.0\n",
            "2.0\n",
            "2.5\n",
            "2.6666666666666665\n",
            "2.708333333333333\n",
            "2.7166666666666663\n",
            "2.7180555555555554\n",
            "2.7182539682539684\n",
            "2.71827876984127\n",
            "2.7182815255731922\n",
            "2.7182818011463845\n",
            "2.718281826198493\n",
            "2.718281826198493\n"
          ],
          "name": "stdout"
        }
      ]
    },
    {
      "cell_type": "code",
      "metadata": {
        "id": "N5xjwVh0iKtc"
      },
      "source": [
        ""
      ],
      "execution_count": null,
      "outputs": []
    }
  ]
}