{
  "nbformat": 4,
  "nbformat_minor": 0,
  "metadata": {
    "colab": {
      "name": "Numba Tutorial 2.ipynb",
      "provenance": [],
      "collapsed_sections": [],
      "authorship_tag": "ABX9TyPd2ISuVMuJzjCV/VkRj0eL",
      "include_colab_link": true
    },
    "kernelspec": {
      "name": "python3",
      "display_name": "Python 3"
    },
    "language_info": {
      "name": "python"
    }
  },
  "cells": [
    {
      "cell_type": "markdown",
      "metadata": {
        "id": "view-in-github",
        "colab_type": "text"
      },
      "source": [
        "<a href=\"https://colab.research.google.com/github/JoDeMiro/PythonCollabExamples/blob/main/Numba_Tutorial_2.ipynb\" target=\"_parent\"><img src=\"https://colab.research.google.com/assets/colab-badge.svg\" alt=\"Open In Colab\"/></a>"
      ]
    },
    {
      "cell_type": "code",
      "metadata": {
        "id": "i24IitVuye5E"
      },
      "source": [
        "# https://youtu.be/x58W9A2lnQc"
      ],
      "execution_count": null,
      "outputs": []
    },
    {
      "cell_type": "code",
      "metadata": {
        "colab": {
          "base_uri": "https://localhost:8080/",
          "height": 497
        },
        "id": "85iMT5HuzwuM",
        "outputId": "7be21011-c7d0-4407-dc5c-8bf301174a9e"
      },
      "source": [
        "%%html\n",
        "\n",
        "<img src=\"https://upload.wikimedia.org/wikipedia/commons/f/fa/Spring-mass_under-damped.gif\" align=\"center\">"
      ],
      "execution_count": null,
      "outputs": [
        {
          "output_type": "display_data",
          "data": {
            "text/html": [
              "\n",
              "<img src=\"https://upload.wikimedia.org/wikipedia/commons/f/fa/Spring-mass_under-damped.gif\" align=\"center\">"
            ],
            "text/plain": [
              "<IPython.core.display.HTML object>"
            ]
          },
          "metadata": {
            "tags": []
          }
        }
      ]
    },
    {
      "cell_type": "code",
      "metadata": {
        "id": "jdN6pyE11kw1"
      },
      "source": [
        "import numpy as np\n",
        "from pylab import *"
      ],
      "execution_count": null,
      "outputs": []
    },
    {
      "cell_type": "code",
      "metadata": {
        "id": "BgeYESHBnq91"
      },
      "source": [
        "# Let's mix wet friction with dry friction, this makes the behavior\n",
        "# of the system dependent on the initial condition, something\n",
        "# may be interesting to study by running an exhaustive simulation"
      ],
      "execution_count": null,
      "outputs": []
    },
    {
      "cell_type": "code",
      "metadata": {
        "id": "y4MZUjyByoWp"
      },
      "source": [
        "def friction_fn(v, vt):\n",
        "  if v > vt:\n",
        "    return -v * 3\n",
        "  else:\n",
        "    return -vt * 3 * np.sign(v)"
      ],
      "execution_count": null,
      "outputs": []
    },
    {
      "cell_type": "code",
      "metadata": {
        "id": "RLfBCrdb0p0u"
      },
      "source": [
        "def simulate_spring_mass_funky_damper(x0, T=10, dt=0.0001, vt=1.0):\n",
        "  times = np.arange(0, T, dt)\n",
        "  positions = np.zeros_like(times)\n",
        "\n",
        "  v = 0\n",
        "  a = 0\n",
        "  x = x0\n",
        "  positions[0] = x0/x0\n",
        "\n",
        "  for ii in range(len(times)):\n",
        "    if ii == 0:\n",
        "      continue\n",
        "    t = times[ii]\n",
        "    a = friction_fn(v, vt) - 100 * x\n",
        "    v = v + a*dt\n",
        "    x = x + v*dt\n",
        "    positions[ii] = x/x0\n",
        "\n",
        "  return times, positions"
      ],
      "execution_count": null,
      "outputs": []
    },
    {
      "cell_type": "code",
      "metadata": {
        "colab": {
          "base_uri": "https://localhost:8080/"
        },
        "id": "iiT0PV0T1Xco",
        "outputId": "232acdcd-f342-475f-8c8f-68a157aac9bd"
      },
      "source": [
        "%time _ = simulate_spring_mass_funky_damper(1)"
      ],
      "execution_count": null,
      "outputs": [
        {
          "output_type": "stream",
          "text": [
            "CPU times: user 486 ms, sys: 3.3 ms, total: 490 ms\n",
            "Wall time: 499 ms\n"
          ],
          "name": "stdout"
        }
      ]
    },
    {
      "cell_type": "code",
      "metadata": {
        "colab": {
          "base_uri": "https://localhost:8080/",
          "height": 282
        },
        "id": "Jgs7wRiZ1g_w",
        "outputId": "96508ad9-095d-4baf-b9b0-736eb324c1b7"
      },
      "source": [
        "plot(*simulate_spring_mass_funky_damper(0.1))\n",
        "plot(*simulate_spring_mass_funky_damper(1))\n",
        "plot(*simulate_spring_mass_funky_damper(10))"
      ],
      "execution_count": null,
      "outputs": [
        {
          "output_type": "execute_result",
          "data": {
            "text/plain": [
              "[<matplotlib.lines.Line2D at 0x7feb1ca28ad0>]"
            ]
          },
          "metadata": {
            "tags": []
          },
          "execution_count": 32
        },
        {
          "output_type": "display_data",
          "data": {
            "image/png": "[encoded data removed]",
            "text/plain": [
              "<Figure size 432x288 with 1 Axes>"
            ]
          },
          "metadata": {
            "tags": [],
            "needs_background": "light"
          }
        }
      ]
    },
    {
      "cell_type": "code",
      "metadata": {
        "id": "-CxTreCl15_d"
      },
      "source": [
        "# yout need to: simulate this system for initial conditions going from 0 to 10000 at 0.1 increments\n",
        "# and then do some statistics on it..."
      ],
      "execution_count": null,
      "outputs": []
    },
    {
      "cell_type": "code",
      "metadata": {
        "id": "eJnIXbvA20bj"
      },
      "source": [
        "# mivel ez kurva sok időt venne igénybe ezért fel kell gyorsítanunk az időt, de hogyan?\n",
        "# írjuk át függvényeket"
      ],
      "execution_count": null,
      "outputs": []
    },
    {
      "cell_type": "code",
      "metadata": {
        "id": "Q9QOHyC13VyH"
      },
      "source": [
        "from numba import jit, njit, vectorize"
      ],
      "execution_count": null,
      "outputs": []
    },
    {
      "cell_type": "code",
      "metadata": {
        "id": "dEZ7ptsg3JhV"
      },
      "source": [
        "@njit\n",
        "def friction_fn_jited(v, vt):\n",
        "  if v > vt:\n",
        "    return -v * 3\n",
        "  else:\n",
        "    return -vt * 3 * np.sign(v)"
      ],
      "execution_count": null,
      "outputs": []
    },
    {
      "cell_type": "code",
      "metadata": {
        "id": "odEevkRD3JXv"
      },
      "source": [
        "@njit\n",
        "def simulate_spring_mass_funky_damper_jited(x0, T=10, dt=0.0001, vt=1.0):\n",
        "  times = np.arange(0, T, dt)\n",
        "  positions = np.zeros_like(times)\n",
        "\n",
        "  v = 0\n",
        "  a = 0\n",
        "  x = x0\n",
        "  positions[0] = x0/x0\n",
        "\n",
        "  for ii in range(len(times)):\n",
        "    if ii == 0:\n",
        "      continue\n",
        "    t = times[ii]\n",
        "    a = friction_fn_jited(v, vt) - 100 * x\n",
        "    v = v + a*dt\n",
        "    x = x + v*dt\n",
        "    positions[ii] = x/x0\n",
        "\n",
        "  return times, positions"
      ],
      "execution_count": null,
      "outputs": []
    },
    {
      "cell_type": "code",
      "metadata": {
        "colab": {
          "base_uri": "https://localhost:8080/"
        },
        "id": "b6nIlOmq3bps",
        "outputId": "006345e2-48f3-44b5-d667-d8b0ee3a9c17"
      },
      "source": [
        "%time _ = simulate_spring_mass_funky_damper_jited(1)"
      ],
      "execution_count": null,
      "outputs": [
        {
          "output_type": "stream",
          "text": [
            "CPU times: user 1.37 ms, sys: 0 ns, total: 1.37 ms\n",
            "Wall time: 1.38 ms\n"
          ],
          "name": "stdout"
        }
      ]
    },
    {
      "cell_type": "code",
      "metadata": {
        "colab": {
          "base_uri": "https://localhost:8080/",
          "height": 282
        },
        "id": "AOyMdpcE3tjw",
        "outputId": "8e8aeab5-aacc-4835-fed0-c89e5c6f1753"
      },
      "source": [
        "plot(*simulate_spring_mass_funky_damper_jited(0.1))\n",
        "plot(*simulate_spring_mass_funky_damper_jited(1))\n",
        "plot(*simulate_spring_mass_funky_damper_jited(10))"
      ],
      "execution_count": null,
      "outputs": [
        {
          "output_type": "execute_result",
          "data": {
            "text/plain": [
              "[<matplotlib.lines.Line2D at 0x7feb0ea0ca90>]"
            ]
          },
          "metadata": {
            "tags": []
          },
          "execution_count": 44
        },
        {
          "output_type": "display_data",
          "data": {
            "image/png": "[encoded data removed]",
            "text/plain": [
              "<Figure size 432x288 with 1 Axes>"
            ]
          },
          "metadata": {
            "tags": [],
            "needs_background": "light"
          }
        }
      ]
    },
    {
      "cell_type": "code",
      "metadata": {
        "id": "qeicoYfL4Q6D"
      },
      "source": [
        "# Most jön az, hogy több szálon kezdjük el használni az amúgy is felgyorsított kódunkat"
      ],
      "execution_count": null,
      "outputs": []
    },
    {
      "cell_type": "code",
      "metadata": {
        "id": "p0N4j1PH4aCI"
      },
      "source": [
        "from concurrent.futures import ThreadPoolExecutor"
      ],
      "execution_count": null,
      "outputs": []
    },
    {
      "cell_type": "code",
      "metadata": {
        "id": "01Y4gsf65aCJ"
      },
      "source": [
        "@njit(nogil=True)\n",
        "def friction_fn_jited_no_gil(v, vt):\n",
        "  if v > vt:\n",
        "    return -v * 3\n",
        "  else:\n",
        "    return -vt * 3 * np.sign(v)"
      ],
      "execution_count": null,
      "outputs": []
    },
    {
      "cell_type": "code",
      "metadata": {
        "id": "l1wetkAu5blM"
      },
      "source": [
        "@njit(nogil=True)\n",
        "def simulate_spring_mass_funky_damper_jited_no_gil(x0, T=10, dt=0.0001, vt=1.0):\n",
        "  times = np.arange(0, T, dt)\n",
        "  positions = np.zeros_like(times)\n",
        "\n",
        "  v = 0\n",
        "  a = 0\n",
        "  x = x0\n",
        "  positions[0] = x0/x0\n",
        "\n",
        "  for ii in range(len(times)):\n",
        "    if ii == 0:\n",
        "      continue\n",
        "    t = times[ii]\n",
        "    a = friction_fn_jited_no_gil(v, vt) - 100 * x\n",
        "    v = v + a*dt\n",
        "    x = x + v*dt\n",
        "    positions[ii] = x/x0\n",
        "\n",
        "  return times, positions"
      ],
      "execution_count": null,
      "outputs": []
    },
    {
      "cell_type": "code",
      "metadata": {
        "colab": {
          "base_uri": "https://localhost:8080/"
        },
        "id": "B6RX2joq5bi0",
        "outputId": "9d17f098-3574-4d24-9bb0-9cbfa8a40d4b"
      },
      "source": [
        "%time _ = simulate_spring_mass_funky_damper_jited_no_gil(1)"
      ],
      "execution_count": null,
      "outputs": [
        {
          "output_type": "stream",
          "text": [
            "CPU times: user 1.34 ms, sys: 1.02 ms, total: 2.36 ms\n",
            "Wall time: 3.92 ms\n"
          ],
          "name": "stdout"
        }
      ]
    },
    {
      "cell_type": "code",
      "metadata": {
        "id": "UwljuAQQ59BG"
      },
      "source": [
        "# régi"
      ],
      "execution_count": null,
      "outputs": []
    },
    {
      "cell_type": "code",
      "metadata": {
        "colab": {
          "base_uri": "https://localhost:8080/"
        },
        "id": "Bp8-Ke684jnd",
        "outputId": "59400517-68cb-491d-8151-1af0f5912795"
      },
      "source": [
        "%%time\n",
        "\n",
        "with ThreadPoolExecutor(8) as executor:\n",
        "  executor.map(simulate_spring_mass_funky_damper_jited, np.arange(0.1, 1000))"
      ],
      "execution_count": null,
      "outputs": [
        {
          "output_type": "stream",
          "text": [
            "CPU times: user 1.19 s, sys: 118 ms, total: 1.3 s\n",
            "Wall time: 1.32 s\n"
          ],
          "name": "stdout"
        }
      ]
    },
    {
      "cell_type": "code",
      "metadata": {
        "id": "KXVUJPXo5-zv"
      },
      "source": [
        "# új"
      ],
      "execution_count": null,
      "outputs": []
    },
    {
      "cell_type": "code",
      "metadata": {
        "colab": {
          "base_uri": "https://localhost:8080/"
        },
        "id": "Npxtu2s94xv3",
        "outputId": "e7a006de-d88a-4e95-ccbd-510c2b1886ed"
      },
      "source": [
        "%%time\n",
        "\n",
        "with ThreadPoolExecutor(8) as executor:\n",
        "  executor.map(simulate_spring_mass_funky_damper_jited_no_gil, np.arange(0.1, 1000))"
      ],
      "execution_count": null,
      "outputs": [
        {
          "output_type": "stream",
          "text": [
            "CPU times: user 1.38 s, sys: 192 ms, total: 1.57 s\n",
            "Wall time: 928 ms\n"
          ],
          "name": "stdout"
        }
      ]
    },
    {
      "cell_type": "code",
      "metadata": {
        "id": "y-CLFP9t6DKP"
      },
      "source": [
        "# van egy harmadik módja is a párhuzamosításnak amit a numba kínál és nem a ThreadExecutor"
      ],
      "execution_count": null,
      "outputs": []
    },
    {
      "cell_type": "code",
      "metadata": {
        "id": "SmO7k1wy6uy5"
      },
      "source": [
        "from numba import prange\n",
        "\n",
        "@njit(parallel=True)\n",
        "def run_simulation(end=1000):\n",
        "  for ii in prange(int(end/0.1)):\n",
        "    if ii == 0:\n",
        "      continue\n",
        "    simulate_spring_mass_funky_damper_jited_no_gil(ii*0.1)\n",
        "\n",
        "run_simulation(10) # just test if it's working"
      ],
      "execution_count": null,
      "outputs": []
    },
    {
      "cell_type": "code",
      "metadata": {
        "colab": {
          "base_uri": "https://localhost:8080/"
        },
        "id": "zGt5YllF6yGv",
        "outputId": "fc66c97b-1774-4e35-c09e-c3f7787f6944"
      },
      "source": [
        "%time run_simulation(1000)"
      ],
      "execution_count": null,
      "outputs": [
        {
          "output_type": "stream",
          "text": [
            "CPU times: user 1.09 s, sys: 39 ms, total: 1.13 s\n",
            "Wall time: 586 ms\n"
          ],
          "name": "stdout"
        }
      ]
    },
    {
      "cell_type": "code",
      "metadata": {
        "id": "U0NY8UWW7YnL"
      },
      "source": [
        ""
      ],
      "execution_count": null,
      "outputs": []
    }
  ]
}