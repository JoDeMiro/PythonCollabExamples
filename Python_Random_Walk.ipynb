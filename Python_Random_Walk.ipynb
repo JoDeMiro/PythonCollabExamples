{
  "nbformat": 4,
  "nbformat_minor": 0,
  "metadata": {
    "colab": {
      "name": "Python - Random Walk.ipynb",
      "provenance": [],
      "collapsed_sections": [],
      "authorship_tag": "ABX9TyO5iFY4njP4ELa99ZcAmk3Z",
      "include_colab_link": true
    },
    "kernelspec": {
      "name": "python3",
      "display_name": "Python 3"
    },
    "language_info": {
      "name": "python"
    }
  },
  "cells": [
    {
      "cell_type": "markdown",
      "metadata": {
        "id": "view-in-github",
        "colab_type": "text"
      },
      "source": [
        "<a href=\"https://colab.research.google.com/github/JoDeMiro/PythonCollabExamples/blob/main/Python_Random_Walk.ipynb\" target=\"_parent\"><img src=\"https://colab.research.google.com/assets/colab-badge.svg\" alt=\"Open In Colab\"/></a>"
      ]
    },
    {
      "cell_type": "code",
      "metadata": {
        "id": "zRXHp-7pFfcz"
      },
      "source": [
        "# https://www.youtube.com/watch?v=BfS2H1y6tzQ"
      ],
      "execution_count": null,
      "outputs": []
    },
    {
      "cell_type": "code",
      "metadata": {
        "id": "lZ8NLf5fFjf_"
      },
      "source": [
        "import random"
      ],
      "execution_count": null,
      "outputs": []
    },
    {
      "cell_type": "code",
      "metadata": {
        "id": "SGO0F9B8FtzK"
      },
      "source": [
        "def random_walk(n):\n",
        "  \"\"\"Return coordinates after 'n' block random walk.\"\"\"\n",
        "  x = 0\n",
        "  y = 0\n",
        "  for i in range(n):\n",
        "    step = random.choice(['N', 'S', 'E', 'W'])\n",
        "    if step == 'N':\n",
        "      y = y + 1\n",
        "    elif step == 'S':\n",
        "      y = y - 1\n",
        "    elif step == 'E':\n",
        "      x = x + 1\n",
        "    elif step == 'W':\n",
        "      x = x - 1\n",
        "  return (x, y)"
      ],
      "execution_count": null,
      "outputs": []
    },
    {
      "cell_type": "code",
      "metadata": {
        "colab": {
          "base_uri": "https://localhost:8080/"
        },
        "id": "tRmedvyBGQMq",
        "outputId": "0b05219d-edb0-499d-bd0c-596e3e3735ac"
      },
      "source": [
        "for i in range(25):\n",
        "  walk = random_walk(10)\n",
        "  print(walk, \"\\tDistance from home = \", abs(walk[0] + walk[1]))"
      ],
      "execution_count": null,
      "outputs": [
        {
          "output_type": "stream",
          "text": [
            "(3, -3) \tDistance from home =  0\n",
            "(-1, -1) \tDistance from home =  2\n",
            "(5, 3) \tDistance from home =  8\n",
            "(-1, -1) \tDistance from home =  2\n",
            "(-3, 1) \tDistance from home =  2\n",
            "(-2, 2) \tDistance from home =  0\n",
            "(-5, 1) \tDistance from home =  4\n",
            "(-2, -4) \tDistance from home =  6\n",
            "(0, 2) \tDistance from home =  2\n",
            "(2, 4) \tDistance from home =  6\n",
            "(1, -1) \tDistance from home =  0\n",
            "(1, 3) \tDistance from home =  4\n",
            "(2, 0) \tDistance from home =  2\n",
            "(2, 0) \tDistance from home =  2\n",
            "(-1, -1) \tDistance from home =  2\n",
            "(-1, -1) \tDistance from home =  2\n",
            "(-1, 1) \tDistance from home =  0\n",
            "(0, -4) \tDistance from home =  4\n",
            "(0, 2) \tDistance from home =  2\n",
            "(0, 2) \tDistance from home =  2\n",
            "(-1, 3) \tDistance from home =  2\n",
            "(-2, 2) \tDistance from home =  0\n",
            "(1, -5) \tDistance from home =  4\n",
            "(-4, -2) \tDistance from home =  6\n",
            "(0, 0) \tDistance from home =  0\n"
          ],
          "name": "stdout"
        }
      ]
    },
    {
      "cell_type": "code",
      "metadata": {
        "id": "llolhJb1GbxA"
      },
      "source": [
        "# Ugyan ez a program csak máskép\n",
        "\n",
        "def random_walk_2(n):\n",
        "  \"\"\"Return coordinates after 'n' block random walk.\"\"\"\n",
        "  x, y = 0, 0\n",
        "  for i in range(n):\n",
        "    (dx, dy) = random.choice([(0,1), (0, -1), (1, 0), (-1, 0)])\n",
        "    x += dx\n",
        "    y += dy\n",
        "  return (x, y)\n"
      ],
      "execution_count": null,
      "outputs": []
    },
    {
      "cell_type": "code",
      "metadata": {
        "colab": {
          "base_uri": "https://localhost:8080/"
        },
        "id": "4be-SbT5HVvS",
        "outputId": "6639cd49-0593-472e-a3e5-c1672e1f8611"
      },
      "source": [
        "for i in range(25):\n",
        "  walk = random_walk_2(10)\n",
        "  print(walk, \"\\tDistance from home = \", abs(walk[0] + walk[1]))"
      ],
      "execution_count": null,
      "outputs": [
        {
          "output_type": "stream",
          "text": [
            "(-1, 1) \tDistance from home =  0\n",
            "(-3, 3) \tDistance from home =  0\n",
            "(-4, 2) \tDistance from home =  2\n",
            "(1, 1) \tDistance from home =  2\n",
            "(0, -2) \tDistance from home =  2\n",
            "(3, 1) \tDistance from home =  4\n",
            "(1, 3) \tDistance from home =  4\n",
            "(1, 1) \tDistance from home =  2\n",
            "(-4, 4) \tDistance from home =  0\n",
            "(1, -3) \tDistance from home =  2\n",
            "(-6, -2) \tDistance from home =  8\n",
            "(5, -1) \tDistance from home =  4\n",
            "(-2, 2) \tDistance from home =  0\n",
            "(0, 0) \tDistance from home =  0\n",
            "(1, -1) \tDistance from home =  0\n",
            "(-1, -1) \tDistance from home =  2\n",
            "(-1, 3) \tDistance from home =  2\n",
            "(1, -1) \tDistance from home =  0\n",
            "(2, 0) \tDistance from home =  2\n",
            "(3, 1) \tDistance from home =  4\n",
            "(0, -2) \tDistance from home =  2\n",
            "(-2, -2) \tDistance from home =  4\n",
            "(1, 1) \tDistance from home =  2\n",
            "(-2, 2) \tDistance from home =  0\n",
            "(-3, -3) \tDistance from home =  6\n"
          ],
          "name": "stdout"
        }
      ]
    },
    {
      "cell_type": "code",
      "metadata": {
        "id": "0CiujUKFHlNO"
      },
      "source": [
        ""
      ],
      "execution_count": null,
      "outputs": []
    }
  ]
}