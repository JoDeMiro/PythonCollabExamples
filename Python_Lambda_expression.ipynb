{
  "nbformat": 4,
  "nbformat_minor": 0,
  "metadata": {
    "colab": {
      "name": "Python - Lambda expression.ipynb",
      "provenance": [],
      "collapsed_sections": [],
      "authorship_tag": "ABX9TyMz7xY+1fcgZXzDZ02S/v+h",
      "include_colab_link": true
    },
    "kernelspec": {
      "name": "python3",
      "display_name": "Python 3"
    },
    "language_info": {
      "name": "python"
    }
  },
  "cells": [
    {
      "cell_type": "markdown",
      "metadata": {
        "id": "view-in-github",
        "colab_type": "text"
      },
      "source": [
        "<a href=\"https://colab.research.google.com/github/JoDeMiro/PythonCollabExamples/blob/main/Python_Lambda_expression.ipynb\" target=\"_parent\"><img src=\"https://colab.research.google.com/assets/colab-badge.svg\" alt=\"Open In Colab\"/></a>"
      ]
    },
    {
      "cell_type": "code",
      "metadata": {
        "id": "PUt46jH3wONb"
      },
      "source": [
        "# https://www.youtube.com/watch?v=25ovCm9jKfA"
      ],
      "execution_count": null,
      "outputs": []
    },
    {
      "cell_type": "code",
      "metadata": {
        "colab": {
          "base_uri": "https://localhost:8080/"
        },
        "id": "MkyYLykqwTOT",
        "outputId": "371fbcf4-de54-40ad-91b6-416bff68a833"
      },
      "source": [
        "# Hagyományos módon irjunk egy függvényt ami 3x+1 műveletet hajtja végre\n",
        "\n",
        "def f(x):\n",
        "  return 3*x + 1\n",
        "\n",
        "print(f(10))"
      ],
      "execution_count": null,
      "outputs": [
        {
          "output_type": "stream",
          "text": [
            "31\n"
          ],
          "name": "stdout"
        }
      ]
    },
    {
      "cell_type": "code",
      "metadata": {
        "colab": {
          "base_uri": "https://localhost:8080/"
        },
        "id": "M5Wz08lcwrna",
        "outputId": "9d58b103-31f1-464b-e6bf-44d185039bd8"
      },
      "source": [
        "# Most ugyan ezt lambdaval\n",
        "\n",
        "lambda x: 3*x + 1"
      ],
      "execution_count": null,
      "outputs": [
        {
          "output_type": "execute_result",
          "data": {
            "text/plain": [
              "<function __main__.<lambda>>"
            ]
          },
          "metadata": {
            "tags": []
          },
          "execution_count": 3
        }
      ]
    },
    {
      "cell_type": "code",
      "metadata": {
        "colab": {
          "base_uri": "https://localhost:8080/"
        },
        "id": "_ClB7k9ow5Ta",
        "outputId": "4fe96c47-9081-4751-f267-de660e990c34"
      },
      "source": [
        "# Adjunk neki nevet is\n",
        "\n",
        "g = lambda x: x*3 + 1\n",
        "\n",
        "print(g(10))"
      ],
      "execution_count": null,
      "outputs": [
        {
          "output_type": "stream",
          "text": [
            "31\n"
          ],
          "name": "stdout"
        }
      ]
    },
    {
      "cell_type": "code",
      "metadata": {
        "colab": {
          "base_uri": "https://localhost:8080/"
        },
        "id": "FvuIsqGhxI3L",
        "outputId": "64faa657-0e1b-4c7e-b6cf-98297de7249d"
      },
      "source": [
        "# lambda kifejezés több bemenettel\n",
        "\n",
        "full_name = lambda first_name, last_name: first_name.strip().title() + \" \" + last_name.strip().title()\n",
        "\n",
        "print(full_name(\"    istvan\", \"PÖTYI\"))"
      ],
      "execution_count": null,
      "outputs": [
        {
          "output_type": "stream",
          "text": [
            "Istvan Pötyi\n"
          ],
          "name": "stdout"
        }
      ]
    },
    {
      "cell_type": "code",
      "metadata": {
        "colab": {
          "base_uri": "https://localhost:8080/"
        },
        "id": "CES_lYsvxaJW",
        "outputId": "03b5b7d8-03d5-4f97-ac1b-1d4037f66567"
      },
      "source": [
        "# geometriai átlag lambda kifejezéssel\n",
        "\n",
        "mean = lambda x, y: (x*y)**0.5\n",
        "\n",
        "print(mean(10,20))"
      ],
      "execution_count": null,
      "outputs": [
        {
          "output_type": "stream",
          "text": [
            "14.142135623730951\n"
          ],
          "name": "stdout"
        }
      ]
    },
    {
      "cell_type": "code",
      "metadata": {
        "colab": {
          "base_uri": "https://localhost:8080/"
        },
        "id": "d_zSRGHlyDUf",
        "outputId": "83d26760-070a-4bc9-aeec-229c848a5653"
      },
      "source": [
        "# rendezés lambda kifejezéssel\n",
        "\n",
        "authors = [\"Isac Newton\", \"George Orwell\", \"George Bush\", \"John Doe\", \"Marilin Moroe\", \"George Lucas\"]\n",
        "\n",
        "authors.sort(key = lambda name: name.split(\" \")[-1].lower())\n",
        "\n",
        "print(authors)"
      ],
      "execution_count": null,
      "outputs": [
        {
          "output_type": "stream",
          "text": [
            "['George Bush', 'John Doe', 'George Lucas', 'Marilin Moroe', 'Isac Newton', 'George Orwell']\n"
          ],
          "name": "stdout"
        }
      ]
    },
    {
      "cell_type": "code",
      "metadata": {
        "colab": {
          "base_uri": "https://localhost:8080/"
        },
        "id": "6TxGz40yynsU",
        "outputId": "d2a769b7-b594-4348-d712-f7298c1c5047"
      },
      "source": [
        "# most olyan fügvényt csinálunk ami függvényeket csinál\n",
        "\n",
        "\n",
        "# f(x) = ax2 + bx + c\n",
        "\n",
        "\n",
        "def build_quadratic_function(a, b, c):\n",
        "  \"\"\"Returns the function f(x) = ax^2 + bx + c\"\"\"\n",
        "  return lambda x: a*x**2 + b*x + c\n",
        "\n",
        "f = build_quadratic_function(2, 3, -5)\n",
        "\n",
        "\n",
        "print(f(0))\n",
        "print(f(1))\n",
        "print(f(2))"
      ],
      "execution_count": null,
      "outputs": [
        {
          "output_type": "stream",
          "text": [
            "-5\n",
            "0\n",
            "9\n"
          ],
          "name": "stdout"
        }
      ]
    },
    {
      "cell_type": "code",
      "metadata": {
        "colab": {
          "base_uri": "https://localhost:8080/"
        },
        "id": "AtqmUK5G3383",
        "outputId": "16ecd0ab-7fa0-4c2b-b605-132eae5f3300"
      },
      "source": [
        "# fenti példa olyannyira működik, hogy még ezt is elbírja\n",
        "\n",
        "value = build_quadratic_function(3, 0, 1)(2) # 3x^2 + 0x + 1 ahol x = 2, tehát 3*2^2 + 0*2 + 1\n",
        "\n",
        "print(value)"
      ],
      "execution_count": null,
      "outputs": [
        {
          "output_type": "stream",
          "text": [
            "13\n"
          ],
          "name": "stdout"
        }
      ]
    },
    {
      "cell_type": "code",
      "metadata": {
        "id": "Uc9Ec4li5EJp"
      },
      "source": [
        ""
      ],
      "execution_count": null,
      "outputs": []
    }
  ]
}