{
  "nbformat": 4,
  "nbformat_minor": 0,
  "metadata": {
    "colab": {
      "name": "Corey Shafer Python - Logger.ipynb",
      "provenance": [],
      "authorship_tag": "ABX9TyPMxWzAixpRqnzV+nJogET2"
    },
    "kernelspec": {
      "name": "python3",
      "display_name": "Python 3"
    },
    "language_info": {
      "name": "python"
    }
  },
  "cells": [
    {
      "cell_type": "code",
      "metadata": {
        "id": "78JU3Kq6T309"
      },
      "source": [
        "# http://youtube.com/watch?v=-ARI4Cz-awo"
      ],
      "execution_count": null,
      "outputs": []
    }
  ]
}