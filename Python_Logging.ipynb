{
  "nbformat": 4,
  "nbformat_minor": 0,
  "metadata": {
    "colab": {
      "name": "Python - Logging.ipynb",
      "provenance": [],
      "collapsed_sections": [],
      "authorship_tag": "ABX9TyOicDyEdl/YvARuTWhVrWc9",
      "include_colab_link": true
    },
    "kernelspec": {
      "name": "python3",
      "display_name": "Python 3"
    },
    "language_info": {
      "name": "python"
    }
  },
  "cells": [
    {
      "cell_type": "markdown",
      "metadata": {
        "id": "view-in-github",
        "colab_type": "text"
      },
      "source": [
        "<a href=\"https://colab.research.google.com/github/JoDeMiro/PythonCollabExamples/blob/main/Python_Logging.ipynb\" target=\"_parent\"><img src=\"https://colab.research.google.com/assets/colab-badge.svg\" alt=\"Open In Colab\"/></a>"
      ]
    },
    {
      "cell_type": "code",
      "metadata": {
        "id": "QaVmicVdNug4"
      },
      "source": [
        "# https://www.youtube.com/watch?v=g8nQ90Hk328"
      ],
      "execution_count": null,
      "outputs": []
    },
    {
      "cell_type": "code",
      "metadata": {
        "id": "uyLRxWSMNyH-"
      },
      "source": [
        "import logging"
      ],
      "execution_count": null,
      "outputs": []
    },
    {
      "cell_type": "code",
      "metadata": {
        "colab": {
          "base_uri": "https://localhost:8080/"
        },
        "id": "3qXBTSwZN6Yi",
        "outputId": "8c769293-1004-4378-f26f-fb735e34d498"
      },
      "source": [
        "# CAPITAL -> Constatns\n",
        "# Camel -> Classes\n",
        "# lower -> methods\n",
        "\n",
        "\n",
        "dir(logging)"
      ],
      "execution_count": null,
      "outputs": [
        {
          "output_type": "execute_result",
          "data": {
            "text/plain": [
              "['BASIC_FORMAT',\n",
              " 'BufferingFormatter',\n",
              " 'CRITICAL',\n",
              " 'DEBUG',\n",
              " 'ERROR',\n",
              " 'FATAL',\n",
              " 'FileHandler',\n",
              " 'Filter',\n",
              " 'Filterer',\n",
              " 'Formatter',\n",
              " 'Handler',\n",
              " 'INFO',\n",
              " 'LogRecord',\n",
              " 'Logger',\n",
              " 'LoggerAdapter',\n",
              " 'Manager',\n",
              " 'NOTSET',\n",
              " 'NullHandler',\n",
              " 'PercentStyle',\n",
              " 'PlaceHolder',\n",
              " 'RootLogger',\n",
              " 'StrFormatStyle',\n",
              " 'StreamHandler',\n",
              " 'StringTemplateStyle',\n",
              " 'Template',\n",
              " 'WARN',\n",
              " 'WARNING',\n",
              " '_STYLES',\n",
              " '_StderrHandler',\n",
              " '__all__',\n",
              " '__author__',\n",
              " '__builtins__',\n",
              " '__cached__',\n",
              " '__date__',\n",
              " '__doc__',\n",
              " '__file__',\n",
              " '__loader__',\n",
              " '__name__',\n",
              " '__package__',\n",
              " '__path__',\n",
              " '__spec__',\n",
              " '__status__',\n",
              " '__version__',\n",
              " '_acquireLock',\n",
              " '_addHandlerRef',\n",
              " '_after_at_fork_child_reinit_locks',\n",
              " '_at_fork_reinit_lock_weakset',\n",
              " '_checkLevel',\n",
              " '_defaultFormatter',\n",
              " '_defaultLastResort',\n",
              " '_handlerList',\n",
              " '_handlers',\n",
              " '_levelToName',\n",
              " '_lock',\n",
              " '_logRecordFactory',\n",
              " '_loggerClass',\n",
              " '_nameToLevel',\n",
              " '_register_at_fork_reinit_lock',\n",
              " '_releaseLock',\n",
              " '_removeHandlerRef',\n",
              " '_showwarning',\n",
              " '_srcfile',\n",
              " '_startTime',\n",
              " '_warnings_showwarning',\n",
              " 'addLevelName',\n",
              " 'atexit',\n",
              " 'basicConfig',\n",
              " 'captureWarnings',\n",
              " 'collections',\n",
              " 'critical',\n",
              " 'currentframe',\n",
              " 'debug',\n",
              " 'disable',\n",
              " 'error',\n",
              " 'exception',\n",
              " 'fatal',\n",
              " 'getLevelName',\n",
              " 'getLogRecordFactory',\n",
              " 'getLogger',\n",
              " 'getLoggerClass',\n",
              " 'handlers',\n",
              " 'info',\n",
              " 'io',\n",
              " 'lastResort',\n",
              " 'log',\n",
              " 'logMultiprocessing',\n",
              " 'logProcesses',\n",
              " 'logThreads',\n",
              " 'makeLogRecord',\n",
              " 'os',\n",
              " 'raiseExceptions',\n",
              " 'root',\n",
              " 'setLogRecordFactory',\n",
              " 'setLoggerClass',\n",
              " 'shutdown',\n",
              " 'sys',\n",
              " 'threading',\n",
              " 'time',\n",
              " 'traceback',\n",
              " 'warn',\n",
              " 'warning',\n",
              " 'warnings',\n",
              " 'weakref']"
            ]
          },
          "metadata": {
            "tags": []
          },
          "execution_count": 2
        }
      ]
    },
    {
      "cell_type": "code",
      "metadata": {
        "id": "Y5OiwVX1N6_-"
      },
      "source": [
        "# Create and configure logger\n",
        "\n",
        "logging.basicConfig(filename=\"log_file_test.log\", level=logging.DEBUG)\n",
        "\n",
        "logger = logging.getLogger()"
      ],
      "execution_count": null,
      "outputs": []
    },
    {
      "cell_type": "code",
      "metadata": {
        "id": "tRx_paWtOf4z"
      },
      "source": [
        "# Test the logger\n",
        "\n",
        "logger.info(\"Our first message\")"
      ],
      "execution_count": null,
      "outputs": []
    },
    {
      "cell_type": "code",
      "metadata": {
        "id": "WDqFN--9O5qD"
      },
      "source": [
        "logger.debug('This is my 😂 debug message ')\n",
        "logger.info('This is my 💜 info message ')\n",
        "logger.warning('This is my 🤔 warning message ')\n",
        "logger.error('This is my error 😱message ')\n",
        "logger.critical('This is my 😭 critical message ')"
      ],
      "execution_count": null,
      "outputs": []
    },
    {
      "cell_type": "code",
      "metadata": {
        "colab": {
          "base_uri": "https://localhost:8080/"
        },
        "id": "vxL7S7VzPCBZ",
        "outputId": "a348de8b-3031-41ae-98ae-377a8a2f290b"
      },
      "source": [
        "!ls"
      ],
      "execution_count": null,
      "outputs": [
        {
          "output_type": "stream",
          "text": [
            "log_file_test.log  sample_data\n"
          ],
          "name": "stdout"
        }
      ]
    },
    {
      "cell_type": "code",
      "metadata": {
        "colab": {
          "base_uri": "https://localhost:8080/"
        },
        "id": "-1PAIpmAP3rb",
        "outputId": "4b294a70-a9b5-4b32-da26-e21388e3fb91"
      },
      "source": [
        "!cat log_file_test.log"
      ],
      "execution_count": null,
      "outputs": [
        {
          "output_type": "stream",
          "text": [
            "INFO:root:Our first message\n",
            "DEBUG:root:This is my 😂 debug message \n",
            "INFO:root:This is my 💜 info message \n",
            "WARNING:root:This is my 🤔 warning message \n",
            "ERROR:root:This is my error 😱message \n",
            "CRITICAL:root:This is my 😭 critical message \n"
          ],
          "name": "stdout"
        }
      ]
    },
    {
      "cell_type": "code",
      "metadata": {
        "colab": {
          "base_uri": "https://localhost:8080/"
        },
        "id": "LU0K_2yjQJGD",
        "outputId": "31d33da6-87d5-4104-fcd5-eca77501000b"
      },
      "source": [
        "import math\n",
        "\n",
        "def quadratic_formula(a, b, c):\n",
        "  \"\"\"Return the solutions to the equation ax^2 + bx + c = 0.\"\"\"\n",
        "\n",
        "  logger.info(\"quadratic_formula({0}, {1}, {2})\".format(a,b,c))\n",
        "\n",
        "  # Compute the discriminant\n",
        "  # Discriminant = b2 - 4ac\n",
        "  logger.debug(\"# Compute the discriminant\")\n",
        "  disc = b**2 - 4*a*c\n",
        "\n",
        "  # Compute the two rootsf\n",
        "  logger.debug(\"# Compute the two roots\")\n",
        "  root1 = (-b + math.sqrt(disc))/(2*a)\n",
        "  root2 = (-b - math.sqrt(disc))/(2*a)\n",
        "\n",
        "  # Return the roots\n",
        "  logger.debug(\"# Return the roots\")\n",
        "  return (root1, root2)\n",
        "\n",
        "roots = quadratic_formula(1, 0, -4)\n",
        "\n",
        "print(roots)"
      ],
      "execution_count": null,
      "outputs": [
        {
          "output_type": "stream",
          "text": [
            "(2.0, -2.0)\n"
          ],
          "name": "stdout"
        }
      ]
    },
    {
      "cell_type": "code",
      "metadata": {
        "colab": {
          "base_uri": "https://localhost:8080/"
        },
        "id": "1uvlFe4cSb1j",
        "outputId": "8497518b-ecc3-4cef-aec4-3905099c021e"
      },
      "source": [
        "!cat log_file_test.log"
      ],
      "execution_count": null,
      "outputs": [
        {
          "output_type": "stream",
          "text": [
            "INFO:root:Our first message\n",
            "DEBUG:root:This is my 😂 debug message \n",
            "INFO:root:This is my 💜 info message \n",
            "WARNING:root:This is my 🤔 warning message \n",
            "ERROR:root:This is my error 😱message \n",
            "CRITICAL:root:This is my 😭 critical message \n",
            "INFO:root:quadratic_formula(1, 0, -2)\n",
            "DEBUG:root:# Compute the discriminant\n",
            "DEBUG:root:# Compute the two roots\n",
            "DEBUG:root:# Return the roots\n",
            "INFO:root:quadratic_formula(1, 0, -2)\n",
            "DEBUG:root:# Compute the discriminant\n",
            "DEBUG:root:# Compute the two roots\n",
            "DEBUG:root:# Return the roots\n",
            "INFO:root:quadratic_formula(1, 0, -4)\n",
            "DEBUG:root:# Compute the discriminant\n",
            "DEBUG:root:# Compute the two roots\n",
            "DEBUG:root:# Return the roots\n"
          ],
          "name": "stdout"
        }
      ]
    },
    {
      "cell_type": "code",
      "metadata": {
        "id": "BZJjCfH-Tnlu"
      },
      "source": [
        ""
      ],
      "execution_count": null,
      "outputs": []
    }
  ]
}