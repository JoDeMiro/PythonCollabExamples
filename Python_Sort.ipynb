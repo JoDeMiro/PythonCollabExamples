{
  "nbformat": 4,
  "nbformat_minor": 0,
  "metadata": {
    "colab": {
      "name": "Python - Sort.ipynb",
      "provenance": [],
      "collapsed_sections": [],
      "authorship_tag": "ABX9TyPzVBN6QrIejatMcOJO8EFc",
      "include_colab_link": true
    },
    "kernelspec": {
      "name": "python3",
      "display_name": "Python 3"
    },
    "language_info": {
      "name": "python"
    }
  },
  "cells": [
    {
      "cell_type": "markdown",
      "metadata": {
        "id": "view-in-github",
        "colab_type": "text"
      },
      "source": [
        "<a href=\"https://colab.research.google.com/github/JoDeMiro/PythonCollabExamples/blob/main/Python_Sort.ipynb\" target=\"_parent\"><img src=\"https://colab.research.google.com/assets/colab-badge.svg\" alt=\"Open In Colab\"/></a>"
      ]
    },
    {
      "cell_type": "code",
      "metadata": {
        "id": "Tz1NGpSqDqK1"
      },
      "source": [
        "# https://www.youtube.com/watch?v=QtwhlHP_tqc"
      ],
      "execution_count": null,
      "outputs": []
    },
    {
      "cell_type": "code",
      "metadata": {
        "id": "VKTPRgGgBisR"
      },
      "source": [
        "# Alkaline earth metals\n",
        "\n",
        "earth_metals = [\"Beryllium\", \"Magnesium\", \"Calcium\", \"Stroncium\", \"Barium\", \"Radium\"]"
      ],
      "execution_count": null,
      "outputs": []
    },
    {
      "cell_type": "code",
      "metadata": {
        "colab": {
          "base_uri": "https://localhost:8080/"
        },
        "id": "uQls1vjPBvOK",
        "outputId": "89aef238-202e-475e-e3e5-e8db4b78250d"
      },
      "source": [
        "# Sort\n",
        "\n",
        "earth_metals.sort()\n",
        "\n",
        "earth_metals"
      ],
      "execution_count": null,
      "outputs": [
        {
          "output_type": "execute_result",
          "data": {
            "text/plain": [
              "['Barium', 'Beryllium', 'Calcium', 'Magnesium', 'Radium', 'Stroncium']"
            ]
          },
          "metadata": {
            "tags": []
          },
          "execution_count": 4
        }
      ]
    },
    {
      "cell_type": "code",
      "metadata": {
        "colab": {
          "base_uri": "https://localhost:8080/"
        },
        "id": "NKcK_c24B0q6",
        "outputId": "4eb118f8-071d-43c0-c85a-933f95055516"
      },
      "source": [
        "# Sort revers order\n",
        "\n",
        "earth_metals.sort(reverse=True)\n",
        "\n",
        "earth_metals"
      ],
      "execution_count": null,
      "outputs": [
        {
          "output_type": "execute_result",
          "data": {
            "text/plain": [
              "['Stroncium', 'Radium', 'Magnesium', 'Calcium', 'Beryllium', 'Barium']"
            ]
          },
          "metadata": {
            "tags": []
          },
          "execution_count": 5
        }
      ]
    },
    {
      "cell_type": "code",
      "metadata": {
        "id": "aM-5xU-iB9Xa"
      },
      "source": [
        "# De mi van akkor, ha nem listát hanem tuple-t használunk, semmi mert a tuple-t nem lehet rendezni"
      ],
      "execution_count": null,
      "outputs": []
    },
    {
      "cell_type": "code",
      "metadata": {
        "colab": {
          "base_uri": "https://localhost:8080/"
        },
        "id": "w0ZhZ4s8DOss",
        "outputId": "a19905be-4825-4ad9-ff16-6cb2e9321eb9"
      },
      "source": [
        "help(list.sort)"
      ],
      "execution_count": null,
      "outputs": [
        {
          "output_type": "stream",
          "text": [
            "Help on method_descriptor:\n",
            "\n",
            "sort(self, /, *, key=None, reverse=False)\n",
            "    Stable sort *IN PLACE*.\n",
            "\n"
          ],
          "name": "stdout"
        }
      ]
    },
    {
      "cell_type": "code",
      "metadata": {
        "id": "s2MouXHcDQdh"
      },
      "source": [
        "dogs = [(\"Mazsi\", \"Cocker\", 12),\n",
        "        (\"Loren\", \"Cocker\", 12),\n",
        "        (\"Bodza\", \"Kwauuk\", 10),\n",
        "        (\"Buksi\", \"Foxi Pulki\", 6)]"
      ],
      "execution_count": null,
      "outputs": []
    },
    {
      "cell_type": "code",
      "metadata": {
        "colab": {
          "base_uri": "https://localhost:8080/"
        },
        "id": "nYORPNCiDyuV",
        "outputId": "9f03f0ae-adb0-4225-cc8d-a3764c1af5ca"
      },
      "source": [
        "# rendezzük őket az életkor alapján\n",
        "\n",
        "age = lambda dog: dog[2]\n",
        "\n",
        "dogs.sort(key=age, reverse=False)\n",
        "\n",
        "dogs"
      ],
      "execution_count": null,
      "outputs": [
        {
          "output_type": "execute_result",
          "data": {
            "text/plain": [
              "[('Buksi', 'Foxi Pulki', 6),\n",
              " ('Bodza', 'Kwauuk', 10),\n",
              " ('Mazsi', 'Cocker', 12),\n",
              " ('Loren', 'Cocker', 12)]"
            ]
          },
          "metadata": {
            "tags": []
          },
          "execution_count": 11
        }
      ]
    },
    {
      "cell_type": "code",
      "metadata": {
        "colab": {
          "base_uri": "https://localhost:8080/"
        },
        "id": "dDcy29FGEB91",
        "outputId": "a2a02646-58aa-4831-96c6-eb0329e9b8b0"
      },
      "source": [
        "# hogyan csinálhatunk új rendezett listát\n",
        "\n",
        "help(sorted)"
      ],
      "execution_count": null,
      "outputs": [
        {
          "output_type": "stream",
          "text": [
            "Help on built-in function sorted in module builtins:\n",
            "\n",
            "sorted(iterable, /, *, key=None, reverse=False)\n",
            "    Return a new list containing all items from the iterable in ascending order.\n",
            "    \n",
            "    A custom key function can be supplied to customize the sort order, and the\n",
            "    reverse flag can be set to request the result in descending order.\n",
            "\n"
          ],
          "name": "stdout"
        }
      ]
    },
    {
      "cell_type": "code",
      "metadata": {
        "colab": {
          "base_uri": "https://localhost:8080/"
        },
        "id": "Qqgj6NafEUNz",
        "outputId": "e2f1082c-0828-47cc-99c1-ede9a1b629e2"
      },
      "source": [
        "sorted_earth_metals = sorted(earth_metals)\n",
        "\n",
        "sorted_earth_metals"
      ],
      "execution_count": null,
      "outputs": [
        {
          "output_type": "execute_result",
          "data": {
            "text/plain": [
              "['Barium', 'Beryllium', 'Calcium', 'Magnesium', 'Radium', 'Stroncium']"
            ]
          },
          "metadata": {
            "tags": []
          },
          "execution_count": 13
        }
      ]
    },
    {
      "cell_type": "code",
      "metadata": {
        "colab": {
          "base_uri": "https://localhost:8080/"
        },
        "id": "Mbi3XV_cEiJm",
        "outputId": "a7dfe606-62fe-4b8e-fb8d-a8f65ba0cc3d"
      },
      "source": [
        "# Tuples\n",
        "\n",
        "data = (7, 2, 5, 6, 1, 3, 9, 10, 4, 8)\n",
        "\n",
        "# data.sort()\n",
        "# sajnos ilyen nincs\n",
        "\n",
        "sorted(data)\n",
        "# ez viszont egy rendezett listával tér vissza"
      ],
      "execution_count": null,
      "outputs": [
        {
          "output_type": "execute_result",
          "data": {
            "text/plain": [
              "[1, 2, 3, 4, 5, 6, 7, 8, 9, 10]"
            ]
          },
          "metadata": {
            "tags": []
          },
          "execution_count": 16
        }
      ]
    },
    {
      "cell_type": "code",
      "metadata": {
        "colab": {
          "base_uri": "https://localhost:8080/"
        },
        "id": "eMnZ7w_HFIC0",
        "outputId": "69f14c50-76b0-45e9-9d42-2bd79a5152dd"
      },
      "source": [
        "# String\n",
        "\n",
        "sorted(\"Alphabetical\")"
      ],
      "execution_count": null,
      "outputs": [
        {
          "output_type": "execute_result",
          "data": {
            "text/plain": [
              "['A', 'a', 'a', 'b', 'c', 'e', 'h', 'i', 'l', 'l', 'p', 't']"
            ]
          },
          "metadata": {
            "tags": []
          },
          "execution_count": 17
        }
      ]
    },
    {
      "cell_type": "code",
      "metadata": {
        "id": "7Gvljoc5FZ-b"
      },
      "source": [
        ""
      ],
      "execution_count": null,
      "outputs": []
    }
  ]
}