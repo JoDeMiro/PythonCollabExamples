{
  "nbformat": 4,
  "nbformat_minor": 0,
  "metadata": {
    "colab": {
      "name": "Numba Tutorial.ipynb",
      "provenance": [],
      "collapsed_sections": [],
      "authorship_tag": "ABX9TyM8jscb7ca/8nTvWDDAFLBp",
      "include_colab_link": true
    },
    "kernelspec": {
      "name": "python3",
      "display_name": "Python 3"
    },
    "language_info": {
      "name": "python"
    }
  },
  "cells": [
    {
      "cell_type": "markdown",
      "metadata": {
        "id": "view-in-github",
        "colab_type": "text"
      },
      "source": [
        "<a href=\"https://colab.research.google.com/github/JoDeMiro/PythonCollabExamples/blob/main/Numba_Tutorial.ipynb\" target=\"_parent\"><img src=\"https://colab.research.google.com/assets/colab-badge.svg\" alt=\"Open In Colab\"/></a>"
      ]
    },
    {
      "cell_type": "code",
      "metadata": {
        "id": "77me7k2rJkwk"
      },
      "source": [
        "# https://youtu.be/x58W9A2lnQc"
      ],
      "execution_count": null,
      "outputs": []
    },
    {
      "cell_type": "code",
      "metadata": {
        "colab": {
          "base_uri": "https://localhost:8080/"
        },
        "id": "yNBxFJ98Bh3K",
        "outputId": "4a1338fc-bf39-45b7-a8a6-330442129b44"
      },
      "source": [
        "%pylab inline"
      ],
      "execution_count": null,
      "outputs": [
        {
          "output_type": "stream",
          "text": [
            "Populating the interactive namespace from numpy and matplotlib\n"
          ],
          "name": "stdout"
        }
      ]
    },
    {
      "cell_type": "code",
      "metadata": {
        "id": "dSuenQcJJwvE"
      },
      "source": [
        ""
      ],
      "execution_count": null,
      "outputs": []
    },
    {
      "cell_type": "markdown",
      "metadata": {
        "id": "8CBZ--foJ03R"
      },
      "source": [
        "Numba Demo 1"
      ]
    },
    {
      "cell_type": "code",
      "metadata": {
        "id": "9BEyBIC1BmA0"
      },
      "source": [
        "from numba import jit\n",
        "import random\n",
        "\n",
        "def monte_carlo_pi(nsamples):\n",
        "  acc = 0\n",
        "  for i in range(nsamples):\n",
        "    x = random.random()\n",
        "    y = random.random()\n",
        "    if(x**2 +y**2) < 1.0:\n",
        "      acc += 1\n",
        "  return 4.0 * acc / nsamples"
      ],
      "execution_count": null,
      "outputs": []
    },
    {
      "cell_type": "code",
      "metadata": {
        "colab": {
          "base_uri": "https://localhost:8080/"
        },
        "id": "LoNyn7mXI4bo",
        "outputId": "72b344ca-5f55-437f-acf5-83177d48462b"
      },
      "source": [
        "%time monte_carlo_pi(10000)"
      ],
      "execution_count": null,
      "outputs": [
        {
          "output_type": "stream",
          "text": [
            "CPU times: user 4.73 ms, sys: 0 ns, total: 4.73 ms\n",
            "Wall time: 4.64 ms\n"
          ],
          "name": "stdout"
        },
        {
          "output_type": "execute_result",
          "data": {
            "text/plain": [
              "3.1648"
            ]
          },
          "metadata": {
            "tags": []
          },
          "execution_count": 3
        }
      ]
    },
    {
      "cell_type": "code",
      "metadata": {
        "id": "3ZHASrVjI8nh"
      },
      "source": [
        "monte_carlo_pi_jit = jit()(monte_carlo_pi)"
      ],
      "execution_count": null,
      "outputs": []
    },
    {
      "cell_type": "code",
      "metadata": {
        "id": "1BL2LsovJbFl"
      },
      "source": [
        "# az alsó kódot kétszer kell futtatni met először a fordítás miatt lessz lassú a kiértékelés eredménye"
      ],
      "execution_count": null,
      "outputs": []
    },
    {
      "cell_type": "code",
      "metadata": {
        "colab": {
          "base_uri": "https://localhost:8080/"
        },
        "id": "OWgYvfymJH8M",
        "outputId": "fe83bc73-976d-41cc-adad-38456e9fd8ca"
      },
      "source": [
        "%time monte_carlo_pi_jit(10000)"
      ],
      "execution_count": null,
      "outputs": [
        {
          "output_type": "stream",
          "text": [
            "CPU times: user 177 µs, sys: 22 µs, total: 199 µs\n",
            "Wall time: 204 µs\n"
          ],
          "name": "stdout"
        },
        {
          "output_type": "execute_result",
          "data": {
            "text/plain": [
              "3.1444"
            ]
          },
          "metadata": {
            "tags": []
          },
          "execution_count": 6
        }
      ]
    },
    {
      "cell_type": "markdown",
      "metadata": {
        "id": "yY1kJVetJ5_P"
      },
      "source": [
        "Numba Demo 2"
      ]
    },
    {
      "cell_type": "code",
      "metadata": {
        "colab": {
          "base_uri": "https://localhost:8080/"
        },
        "id": "rJo0OUfwJO-p",
        "outputId": "c2463378-338d-4db5-8433-dd62996b65ff"
      },
      "source": [
        "%pylab inline"
      ],
      "execution_count": null,
      "outputs": [
        {
          "output_type": "stream",
          "text": [
            "Populating the interactive namespace from numpy and matplotlib\n"
          ],
          "name": "stdout"
        },
        {
          "output_type": "stream",
          "text": [
            "/usr/local/lib/python3.7/dist-packages/IPython/core/magics/pylab.py:161: UserWarning: pylab import has clobbered these variables: ['random']\n",
            "`%matplotlib` prevents importing * from pylab and numpy\n",
            "  \"\\n`%matplotlib` prevents importing * from pylab and numpy\"\n"
          ],
          "name": "stderr"
        }
      ]
    },
    {
      "cell_type": "code",
      "metadata": {
        "id": "3EcG4gNYJ94G"
      },
      "source": [
        "from numba import jit, njit, vectorize"
      ],
      "execution_count": null,
      "outputs": []
    },
    {
      "cell_type": "code",
      "metadata": {
        "id": "aQERE_s6KFkT"
      },
      "source": [
        "def original_function(input_list):\n",
        "  output_list = []\n",
        "  for item in input_list:\n",
        "    if item % 2 == 0:\n",
        "      output_list.append(2)\n",
        "    else:\n",
        "      output_list.append('1')\n",
        "  return output_list\n",
        "\n",
        "test_array = list(range(100000))"
      ],
      "execution_count": null,
      "outputs": []
    },
    {
      "cell_type": "code",
      "metadata": {
        "colab": {
          "base_uri": "https://localhost:8080/"
        },
        "id": "EkdOmn9SKH8G",
        "outputId": "748d581a-08f5-4b50-bd40-b9383e355fbe"
      },
      "source": [
        "%time _ = original_function(test_array)"
      ],
      "execution_count": null,
      "outputs": [
        {
          "output_type": "stream",
          "text": [
            "CPU times: user 19.8 ms, sys: 0 ns, total: 19.8 ms\n",
            "Wall time: 21.3 ms\n"
          ],
          "name": "stdout"
        }
      ]
    },
    {
      "cell_type": "code",
      "metadata": {
        "id": "H_YulJXeKxDZ"
      },
      "source": [
        "jitted_function = jit()(original_function)"
      ],
      "execution_count": null,
      "outputs": []
    },
    {
      "cell_type": "code",
      "metadata": {
        "colab": {
          "base_uri": "https://localhost:8080/"
        },
        "id": "THBNAvQDLdUu",
        "outputId": "2f034530-bca6-4cac-de2d-315d070ff09e"
      },
      "source": [
        "%time _ = jitted_function(test_array)"
      ],
      "execution_count": null,
      "outputs": [
        {
          "output_type": "stream",
          "text": [
            "CPU times: user 247 µs, sys: 0 ns, total: 247 µs\n",
            "Wall time: 253 µs\n"
          ],
          "name": "stdout"
        }
      ]
    },
    {
      "cell_type": "markdown",
      "metadata": {
        "id": "q4Zcg5nMMV4W"
      },
      "source": [
        "Numba njit Demo1"
      ]
    },
    {
      "cell_type": "code",
      "metadata": {
        "colab": {
          "base_uri": "https://localhost:8080/"
        },
        "id": "qJAZ1FRZLhCk",
        "outputId": "3bb15aab-7846-4099-dae9-14b7b1313bc1"
      },
      "source": [
        "%pylab inline"
      ],
      "execution_count": null,
      "outputs": [
        {
          "output_type": "stream",
          "text": [
            "Populating the interactive namespace from numpy and matplotlib\n"
          ],
          "name": "stdout"
        },
        {
          "output_type": "stream",
          "text": [
            "/usr/local/lib/python3.7/dist-packages/IPython/core/magics/pylab.py:161: UserWarning: pylab import has clobbered these variables: ['vectorize']\n",
            "`%matplotlib` prevents importing * from pylab and numpy\n",
            "  \"\\n`%matplotlib` prevents importing * from pylab and numpy\"\n"
          ],
          "name": "stderr"
        }
      ]
    },
    {
      "cell_type": "code",
      "metadata": {
        "id": "i60fRV_1McrN"
      },
      "source": [
        "from numba import jit, njit, vectorize"
      ],
      "execution_count": null,
      "outputs": []
    },
    {
      "cell_type": "code",
      "metadata": {
        "id": "0HctFXaSMga0"
      },
      "source": [
        "def original_function_simple(input_list):\n",
        "  output_list = []\n",
        "  for item in input_list:\n",
        "    if item % 2 == 0:\n",
        "      output_list.append(1)\n",
        "    else:\n",
        "      output_list.append(2)\n",
        "  return output_list"
      ],
      "execution_count": null,
      "outputs": []
    },
    {
      "cell_type": "code",
      "metadata": {
        "id": "ag1N40iXXAtM"
      },
      "source": [
        "jitted_function_simple = jit()(original_function_simple)"
      ],
      "execution_count": null,
      "outputs": []
    },
    {
      "cell_type": "code",
      "metadata": {
        "colab": {
          "base_uri": "https://localhost:8080/"
        },
        "id": "6iQFVvW3XImv",
        "outputId": "a65fb709-0200-4f5c-b725-e411baffd58f"
      },
      "source": [
        "%time _ = jitted_function_simple(test_array)"
      ],
      "execution_count": null,
      "outputs": [
        {
          "output_type": "stream",
          "text": [
            "CPU times: user 165 ms, sys: 3.41 ms, total: 168 ms\n",
            "Wall time: 173 ms\n"
          ],
          "name": "stdout"
        }
      ]
    },
    {
      "cell_type": "markdown",
      "metadata": {
        "id": "ix8t3yM4jy7J"
      },
      "source": [
        "Numba Vectorization Demo"
      ]
    },
    {
      "cell_type": "code",
      "metadata": {
        "id": "Tun57wphXNF1"
      },
      "source": [
        "from numba import jit, njit, vectorize\n",
        "import numpy as np"
      ],
      "execution_count": null,
      "outputs": []
    },
    {
      "cell_type": "code",
      "metadata": {
        "id": "F62gn_x_j6fG"
      },
      "source": [
        "test_array = np.arange(100000)"
      ],
      "execution_count": null,
      "outputs": []
    },
    {
      "cell_type": "code",
      "metadata": {
        "colab": {
          "base_uri": "https://localhost:8080/"
        },
        "id": "aqAxUXz6lGzM",
        "outputId": "0283ff37-56cd-4107-fef3-54185d85447f"
      },
      "source": [
        "%time _ = original_function(test_array)"
      ],
      "execution_count": null,
      "outputs": [
        {
          "output_type": "stream",
          "text": [
            "CPU times: user 18.3 ms, sys: 932 µs, total: 19.2 ms\n",
            "Wall time: 19.4 ms\n"
          ],
          "name": "stdout"
        }
      ]
    },
    {
      "cell_type": "code",
      "metadata": {
        "id": "VLV9Z0e0laa2"
      },
      "source": [
        "jitted_function = jit()(original_function)"
      ],
      "execution_count": null,
      "outputs": []
    },
    {
      "cell_type": "code",
      "metadata": {
        "colab": {
          "base_uri": "https://localhost:8080/"
        },
        "id": "L8fSmrWBljGN",
        "outputId": "451c9d5c-b1a7-49bf-fd56-023df36e18ec"
      },
      "source": [
        "%time _ = jitted_function(test_array)"
      ],
      "execution_count": null,
      "outputs": [
        {
          "output_type": "stream",
          "text": [
            "CPU times: user 174 µs, sys: 22 µs, total: 196 µs\n",
            "Wall time: 203 µs\n"
          ],
          "name": "stdout"
        }
      ]
    },
    {
      "cell_type": "code",
      "metadata": {
        "id": "woqps2o8kFA2"
      },
      "source": [
        "@vectorize\n",
        "def scalar_computation(num):\n",
        "  if num % 2 == 0:\n",
        "    return 2\n",
        "  else:\n",
        "    return 1"
      ],
      "execution_count": null,
      "outputs": []
    },
    {
      "cell_type": "code",
      "metadata": {
        "colab": {
          "base_uri": "https://localhost:8080/"
        },
        "id": "eyj__Nqkkq_k",
        "outputId": "7280f256-07e8-4d0f-bfcd-663255c53632"
      },
      "source": [
        "%time scalar_computation(test_array)"
      ],
      "execution_count": null,
      "outputs": [
        {
          "output_type": "stream",
          "text": [
            "CPU times: user 82.4 ms, sys: 726 µs, total: 83.1 ms\n",
            "Wall time: 84.6 ms\n"
          ],
          "name": "stdout"
        },
        {
          "output_type": "execute_result",
          "data": {
            "text/plain": [
              "array([2, 1, 2, ..., 1, 2, 1])"
            ]
          },
          "metadata": {
            "tags": []
          },
          "execution_count": 14
        }
      ]
    },
    {
      "cell_type": "code",
      "metadata": {
        "id": "K5zNMv_Wk4LS"
      },
      "source": [
        ""
      ],
      "execution_count": null,
      "outputs": []
    }
  ]
}