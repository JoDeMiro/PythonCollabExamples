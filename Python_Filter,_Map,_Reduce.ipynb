{
  "nbformat": 4,
  "nbformat_minor": 0,
  "metadata": {
    "colab": {
      "name": "Python - Filter, Map, Reduce.ipynb",
      "provenance": [],
      "collapsed_sections": [],
      "authorship_tag": "ABX9TyNGxmp0iP+2+2XpkZADxh7E",
      "include_colab_link": true
    },
    "kernelspec": {
      "name": "python3",
      "display_name": "Python 3"
    },
    "language_info": {
      "name": "python"
    }
  },
  "cells": [
    {
      "cell_type": "markdown",
      "metadata": {
        "id": "view-in-github",
        "colab_type": "text"
      },
      "source": [
        "<a href=\"https://colab.research.google.com/github/JoDeMiro/PythonCollabExamples/blob/main/Python_Filter%2C_Map%2C_Reduce.ipynb\" target=\"_parent\"><img src=\"https://colab.research.google.com/assets/colab-badge.svg\" alt=\"Open In Colab\"/></a>"
      ]
    },
    {
      "cell_type": "code",
      "metadata": {
        "id": "6Pj5Drl75blD"
      },
      "source": [
        "# https://www.youtube.com/watch?v=kj850Y8y8FI"
      ],
      "execution_count": null,
      "outputs": []
    },
    {
      "cell_type": "code",
      "metadata": {
        "id": "cIMtD2Nv5jOU"
      },
      "source": [
        "numbers = [3, 2, 6, 8, 4, 6, 2, 9]"
      ],
      "execution_count": null,
      "outputs": []
    },
    {
      "cell_type": "code",
      "metadata": {
        "colab": {
          "base_uri": "https://localhost:8080/"
        },
        "id": "d5z_hz4-5qGk",
        "outputId": "33f22f81-c0ad-4558-c209-07a71a9855a1"
      },
      "source": [
        "# A feladat az, hogy leválogassuk a páratlan számokat\n",
        "\n",
        "def is_even(n):\n",
        "  if(n % 2 == 0):\n",
        "    return True\n",
        "  elif(n % 2 == 1):\n",
        "    return False\n",
        "\n",
        "evens = list(filter(is_even,numbers))\n",
        "\n",
        "print(evens)"
      ],
      "execution_count": null,
      "outputs": [
        {
          "output_type": "stream",
          "text": [
            "[2, 6, 8, 4, 6, 2]\n"
          ],
          "name": "stdout"
        }
      ]
    },
    {
      "cell_type": "code",
      "metadata": {
        "colab": {
          "base_uri": "https://localhost:8080/"
        },
        "id": "vZHhhYuq6KNC",
        "outputId": "e9658abe-0c0c-4014-cf01-9f27c4995b1e"
      },
      "source": [
        "# Na de ennél lehetne rövidebb is, például úgy hogy lambda kifejezést használunk\n",
        "\n",
        "evens = list(filter(lambda x: x%2==0, numbers))\n",
        "\n",
        "print(evens)"
      ],
      "execution_count": null,
      "outputs": [
        {
          "output_type": "stream",
          "text": [
            "[2, 6, 8, 4, 6, 2]\n"
          ],
          "name": "stdout"
        }
      ]
    },
    {
      "cell_type": "code",
      "metadata": {
        "colab": {
          "base_uri": "https://localhost:8080/"
        },
        "id": "oCeXz2K76qll",
        "outputId": "86e2c037-845e-4ebc-ed20-d1721a28de5d"
      },
      "source": [
        "# Na mi van akkor, ha módosítani akarjuk az egyes értékeket -> map\n",
        "\n",
        "def update(n):\n",
        "  return n + 2\n",
        "\n",
        "doubles = list(map(update, evens))\n",
        "\n",
        "print(doubles)"
      ],
      "execution_count": null,
      "outputs": [
        {
          "output_type": "stream",
          "text": [
            "[4, 8, 10, 6, 8, 4]\n"
          ],
          "name": "stdout"
        }
      ]
    },
    {
      "cell_type": "code",
      "metadata": {
        "colab": {
          "base_uri": "https://localhost:8080/"
        },
        "id": "l_JzLMAh7jTx",
        "outputId": "ecef91ad-7e05-46f1-b7e1-49dbc3f50a2f"
      },
      "source": [
        "# Na persze ezt is megcsinálhatjuk lambda kifejezéssel\n",
        "\n",
        "doubles = list(map(lambda x: x + 2, evens))\n",
        "\n",
        "print(doubles)"
      ],
      "execution_count": null,
      "outputs": [
        {
          "output_type": "stream",
          "text": [
            "[4, 8, 10, 6, 8, 4]\n"
          ],
          "name": "stdout"
        }
      ]
    },
    {
      "cell_type": "code",
      "metadata": {
        "colab": {
          "base_uri": "https://localhost:8080/"
        },
        "id": "oJt_kSoK7x6M",
        "outputId": "94d47ed5-1cd4-4f02-8010-c12aee845ef3"
      },
      "source": [
        "# Na és akkor most a reduce\n",
        "\n",
        "from functools import reduce\n",
        "\n",
        "def add(a,b):\n",
        "  return a + b\n",
        "\n",
        "sum = reduce(add, doubles)\n",
        "\n",
        "print(sum)"
      ],
      "execution_count": null,
      "outputs": [
        {
          "output_type": "stream",
          "text": [
            "40\n"
          ],
          "name": "stdout"
        }
      ]
    },
    {
      "cell_type": "code",
      "metadata": {
        "colab": {
          "base_uri": "https://localhost:8080/"
        },
        "id": "RkmZDkXd8KFO",
        "outputId": "4915c1fa-7677-4089-dce3-04b048549570"
      },
      "source": [
        "# Természetesen ez is rövidebb lambda kifejezéssel\n",
        "\n",
        "from functools import reduce\n",
        "\n",
        "sum = reduce(lambda a,b: a + b, doubles)\n",
        "\n",
        "print(sum)"
      ],
      "execution_count": null,
      "outputs": [
        {
          "output_type": "stream",
          "text": [
            "40\n"
          ],
          "name": "stdout"
        }
      ]
    },
    {
      "cell_type": "code",
      "metadata": {
        "id": "QQdR-WTe8qBT"
      },
      "source": [
        ""
      ],
      "execution_count": null,
      "outputs": []
    }
  ]
}